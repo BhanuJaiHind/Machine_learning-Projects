{
 "cells": [
  {
   "cell_type": "code",
   "execution_count": 1,
   "metadata": {},
   "outputs": [],
   "source": [
    "#Annova Implementation using random data generation\n",
    "import numpy as np\n",
    "import scipy as sp\n",
    "sample1=np.random.randint(600,615,15)/10\n",
    "sample2=np.random.randint(600,615,14)/10\n",
    "sample3=np.random.randint(600,615,13)/10\n",
    "sample4=np.random.randint(600,615,12)/10\n",
    "sample5=np.random.randint(600,700,12)/10\n"
   ]
  },
  {
   "cell_type": "code",
   "execution_count": null,
   "metadata": {},
   "outputs": [],
   "source": []
  },
  {
   "cell_type": "markdown",
   "metadata": {},
   "source": [
    "![](Image1.jpg)"
   ]
  },
  {
   "cell_type": "code",
   "execution_count": 2,
   "metadata": {},
   "outputs": [
    {
     "data": {
      "text/plain": [
       "F_onewayResult(statistic=12.778038083943493, pvalue=1.2926626448177867e-07)"
      ]
     },
     "execution_count": 2,
     "metadata": {},
     "output_type": "execute_result"
    }
   ],
   "source": [
    "import scipy.stats as st\n",
    "st.f_oneway(sample1,sample2,sample3,sample4,sample5)"
   ]
  },
  {
   "cell_type": "code",
   "execution_count": 3,
   "metadata": {},
   "outputs": [
    {
     "data": {
      "text/plain": [
       "array([60.5, 60.5, 61.4, 61.3, 61.3, 61. , 60.7, 60.6, 61.2, 60.2, 60.1,\n",
       "       61.3, 60.6, 61.3, 61.2])"
      ]
     },
     "execution_count": 3,
     "metadata": {},
     "output_type": "execute_result"
    }
   ],
   "source": [
    "sample1"
   ]
  },
  {
   "cell_type": "code",
   "execution_count": 4,
   "metadata": {},
   "outputs": [],
   "source": [
    "#Manual Way\n",
    "\n",
    "meanofsample1=sample1.mean()\n",
    "meanofsample2=sample2.mean()\n",
    "meanofsample3=sample3.mean()\n",
    "meanofsample4=sample4.mean()\n",
    "meanofsample5=sample5.mean()"
   ]
  },
  {
   "cell_type": "code",
   "execution_count": 5,
   "metadata": {},
   "outputs": [],
   "source": [
    "Overallmean=(sum(sample1)+sum(sample2)+sum(sample3)+sum(sample3)+sum(sample4))/(len(sample1)+len(sample2)+len(sample3)+len(sample4)+len(sample5))"
   ]
  },
  {
   "cell_type": "code",
   "execution_count": 6,
   "metadata": {},
   "outputs": [
    {
     "data": {
      "text/plain": [
       "61.659090909090914"
      ]
     },
     "execution_count": 6,
     "metadata": {},
     "output_type": "execute_result"
    }
   ],
   "source": [
    "Overallmean"
   ]
  },
  {
   "cell_type": "code",
   "execution_count": 7,
   "metadata": {},
   "outputs": [],
   "source": [
    "#SST calculation\n",
    "sqsumoftotal=np.sum([(Overallmean -i)**2 for i in sample1] + [(Overallmean -i)**2 for i in sample2]+\n",
    "                   [(Overallmean -i)**2 for i in sample3]+ [(Overallmean -i)**2 for i in sample4]\n",
    "                   +[(Overallmean -i)**2 for i in sample5])"
   ]
  },
  {
   "cell_type": "code",
   "execution_count": 8,
   "metadata": {},
   "outputs": [
    {
     "data": {
      "text/plain": [
       "47.167279614325146"
      ]
     },
     "execution_count": 8,
     "metadata": {},
     "output_type": "execute_result"
    }
   ],
   "source": [
    "#SSC calculation\n",
    "sqsumofcolumns=len(sample1)*(meanofsample1-Overallmean)**2 + len(sample2)*(meanofsample2-Overallmean)**2\n",
    "+len(sample3)*(meanofsample3-Overallmean)**2+len(sample4)*(meanofsample4-Overallmean)**2\n",
    "+len(sample5)*(meanofsample5-Overallmean)**2"
   ]
  },
  {
   "cell_type": "code",
   "execution_count": 9,
   "metadata": {},
   "outputs": [
    {
     "data": {
      "text/plain": [
       "87.74916666666664"
      ]
     },
     "execution_count": 9,
     "metadata": {},
     "output_type": "execute_result"
    }
   ],
   "source": [
    "#SSE Calculation\n",
    "sqsumoferrors=np.sum([(meanofsample1-i)**2 for i in sample1]) + np.sum([(meanofsample2-i)**2 for i in sample2])\n",
    "+np.sum([(meanofsample3-i)**2 for i in sample3])+np.sum([(meanofsample4-i)**2 for i in sample4])\n",
    "+np.sum([(meanofsample5-i)**2 for i in sample5])"
   ]
  },
  {
   "cell_type": "code",
   "execution_count": 10,
   "metadata": {},
   "outputs": [],
   "source": [
    "dofc=5-1\n",
    "dofe=(len(sample1)+ len(sample2)+len(sample3)+len(sample4)+len(sample5)) -5\n",
    "doft=(len(sample1)+ len(sample2)+len(sample3)+len(sample4)+len(sample5)) -1\n"
   ]
  },
  {
   "cell_type": "code",
   "execution_count": 11,
   "metadata": {},
   "outputs": [],
   "source": [
    "MSC=sqsumofcolumns/dofc\n",
    "MSE=sqsumoferrors/dofe"
   ]
  },
  {
   "cell_type": "code",
   "execution_count": 12,
   "metadata": {},
   "outputs": [
    {
     "data": {
      "text/plain": [
       "(4.447626770956379, 0.09102576112412139)"
      ]
     },
     "execution_count": 12,
     "metadata": {},
     "output_type": "execute_result"
    }
   ],
   "source": [
    "MSC,MSE"
   ]
  },
  {
   "cell_type": "code",
   "execution_count": 13,
   "metadata": {},
   "outputs": [
    {
     "data": {
      "text/plain": [
       "(4, 61)"
      ]
     },
     "execution_count": 13,
     "metadata": {},
     "output_type": "execute_result"
    }
   ],
   "source": [
    "dofc,dofe"
   ]
  },
  {
   "cell_type": "code",
   "execution_count": 14,
   "metadata": {},
   "outputs": [],
   "source": [
    "fvalueobserved=MSC/MSE"
   ]
  },
  {
   "cell_type": "code",
   "execution_count": 15,
   "metadata": {},
   "outputs": [
    {
     "data": {
      "text/plain": [
       "48.861187382895494"
      ]
     },
     "execution_count": 15,
     "metadata": {},
     "output_type": "execute_result"
    }
   ],
   "source": [
    "fvalueobserved"
   ]
  },
  {
   "cell_type": "code",
   "execution_count": 16,
   "metadata": {},
   "outputs": [
    {
     "data": {
      "text/plain": [
       "' Now check using F table check for degrees of freedom and find fcritical \\n    which will be compared with fvalueobserved ro take a decision on level\\n    of significance '"
      ]
     },
     "execution_count": 16,
     "metadata": {},
     "output_type": "execute_result"
    }
   ],
   "source": [
    "''' Now check using F table check for degrees of freedom and find fcritical \n",
    "    which will be compared with fvalueobserved ro take a decision on level\n",
    "    of significance '''"
   ]
  }
 ],
 "metadata": {
  "kernelspec": {
   "display_name": "Python 3",
   "language": "python",
   "name": "python3"
  },
  "language_info": {
   "codemirror_mode": {
    "name": "ipython",
    "version": 3
   },
   "file_extension": ".py",
   "mimetype": "text/x-python",
   "name": "python",
   "nbconvert_exporter": "python",
   "pygments_lexer": "ipython3",
   "version": "3.7.4"
  }
 },
 "nbformat": 4,
 "nbformat_minor": 2
}
